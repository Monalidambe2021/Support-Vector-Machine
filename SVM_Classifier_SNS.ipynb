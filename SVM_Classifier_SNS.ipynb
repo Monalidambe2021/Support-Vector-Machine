{
 "cells": [
  {
   "cell_type": "code",
   "execution_count": 1,
   "id": "50accdc6",
   "metadata": {},
   "outputs": [],
   "source": [
    "# Import library\n",
    "import pandas as pd"
   ]
  },
  {
   "cell_type": "code",
   "execution_count": 2,
   "id": "fa80cf68",
   "metadata": {},
   "outputs": [],
   "source": [
    "# Load dataset\n",
    "df= pd.read_csv('../../dnyan/Datasets/Social_Network_Ads.csv')"
   ]
  },
  {
   "cell_type": "code",
   "execution_count": 3,
   "id": "4c2c8671",
   "metadata": {},
   "outputs": [
    {
     "data": {
      "text/html": [
       "<div>\n",
       "<style scoped>\n",
       "    .dataframe tbody tr th:only-of-type {\n",
       "        vertical-align: middle;\n",
       "    }\n",
       "\n",
       "    .dataframe tbody tr th {\n",
       "        vertical-align: top;\n",
       "    }\n",
       "\n",
       "    .dataframe thead th {\n",
       "        text-align: right;\n",
       "    }\n",
       "</style>\n",
       "<table border=\"1\" class=\"dataframe\">\n",
       "  <thead>\n",
       "    <tr style=\"text-align: right;\">\n",
       "      <th></th>\n",
       "      <th>User ID</th>\n",
       "      <th>Gender</th>\n",
       "      <th>Age</th>\n",
       "      <th>EstimatedSalary</th>\n",
       "      <th>Purchased</th>\n",
       "    </tr>\n",
       "  </thead>\n",
       "  <tbody>\n",
       "    <tr>\n",
       "      <th>0</th>\n",
       "      <td>15624510</td>\n",
       "      <td>Male</td>\n",
       "      <td>19</td>\n",
       "      <td>19000</td>\n",
       "      <td>0</td>\n",
       "    </tr>\n",
       "    <tr>\n",
       "      <th>1</th>\n",
       "      <td>15810944</td>\n",
       "      <td>Male</td>\n",
       "      <td>35</td>\n",
       "      <td>20000</td>\n",
       "      <td>0</td>\n",
       "    </tr>\n",
       "    <tr>\n",
       "      <th>2</th>\n",
       "      <td>15668575</td>\n",
       "      <td>Female</td>\n",
       "      <td>26</td>\n",
       "      <td>43000</td>\n",
       "      <td>0</td>\n",
       "    </tr>\n",
       "    <tr>\n",
       "      <th>3</th>\n",
       "      <td>15603246</td>\n",
       "      <td>Female</td>\n",
       "      <td>27</td>\n",
       "      <td>57000</td>\n",
       "      <td>0</td>\n",
       "    </tr>\n",
       "    <tr>\n",
       "      <th>4</th>\n",
       "      <td>15804002</td>\n",
       "      <td>Male</td>\n",
       "      <td>19</td>\n",
       "      <td>76000</td>\n",
       "      <td>0</td>\n",
       "    </tr>\n",
       "  </tbody>\n",
       "</table>\n",
       "</div>"
      ],
      "text/plain": [
       "    User ID  Gender  Age  EstimatedSalary  Purchased\n",
       "0  15624510    Male   19            19000          0\n",
       "1  15810944    Male   35            20000          0\n",
       "2  15668575  Female   26            43000          0\n",
       "3  15603246  Female   27            57000          0\n",
       "4  15804002    Male   19            76000          0"
      ]
     },
     "execution_count": 3,
     "metadata": {},
     "output_type": "execute_result"
    }
   ],
   "source": [
    "df.head()"
   ]
  },
  {
   "cell_type": "code",
   "execution_count": 4,
   "id": "cd657948",
   "metadata": {},
   "outputs": [],
   "source": [
    "# create independent & dependent variable\n",
    "X=df[['Age', 'EstimatedSalary']] # Independent Variables\n",
    "y = df['Purchased']   # dependent variable "
   ]
  },
  {
   "cell_type": "code",
   "execution_count": 5,
   "id": "1cc450c7",
   "metadata": {},
   "outputs": [],
   "source": [
    "# train test split\n",
    "from sklearn.model_selection import train_test_split\n",
    "X_train,X_test,y_train,y_test = train_test_split(X,y,test_size=0.25, random_state= 46)"
   ]
  },
  {
   "cell_type": "code",
   "execution_count": 9,
   "id": "c5dfeecb",
   "metadata": {},
   "outputs": [
    {
     "name": "stdout",
     "output_type": "stream",
     "text": [
      "     Age  EstimatedSalary\n",
      "11    26            52000\n",
      "103   33           149000\n",
      "96    35            25000\n",
      "219   59           143000\n",
      "303   37            79000 \n",
      "      Age  EstimatedSalary\n",
      "342   38            65000\n",
      "153   36            50000\n",
      "81    39            42000\n",
      "125   39            61000\n",
      "314   39            79000\n"
     ]
    }
   ],
   "source": [
    "print(X_train.head(),'\\n' ,X_test.head())"
   ]
  },
  {
   "cell_type": "code",
   "execution_count": 10,
   "id": "1678f51e",
   "metadata": {},
   "outputs": [],
   "source": [
    "# Scaling\n",
    "from sklearn.preprocessing import MinMaxScaler\n",
    "scaler = MinMaxScaler()\n",
    "scaler.fit(X_train)  # min max => train data\n",
    "X_train_scaled = scaler.transform(X_train)\n",
    "X_test_scaled = scaler.transform(X_test)"
   ]
  },
  {
   "cell_type": "code",
   "execution_count": 12,
   "id": "1537a036",
   "metadata": {},
   "outputs": [
    {
     "data": {
      "text/plain": [
       "0.82"
      ]
     },
     "execution_count": 12,
     "metadata": {},
     "output_type": "execute_result"
    }
   ],
   "source": [
    "from sklearn.svm import SVC\n",
    "model_1 = SVC(kernel = 'linear')\n",
    "model_1.fit(X_train_scaled,y_train)\n",
    "model_1.score(X_test_scaled,y_test)"
   ]
  },
  {
   "cell_type": "code",
   "execution_count": 13,
   "id": "5fffc826",
   "metadata": {},
   "outputs": [
    {
     "data": {
      "text/plain": [
       "0.91"
      ]
     },
     "execution_count": 13,
     "metadata": {},
     "output_type": "execute_result"
    }
   ],
   "source": [
    "model_2 = SVC(kernel = 'poly')\n",
    "model_2.fit(X_train_scaled,y_train)\n",
    "model_2.score(X_test_scaled,y_test)"
   ]
  },
  {
   "cell_type": "code",
   "execution_count": 14,
   "id": "24506484",
   "metadata": {},
   "outputs": [
    {
     "data": {
      "text/plain": [
       "0.92"
      ]
     },
     "execution_count": 14,
     "metadata": {},
     "output_type": "execute_result"
    }
   ],
   "source": [
    "model_3 = SVC(kernel = 'rbf')\n",
    "model_3.fit(X_train_scaled,y_train)\n",
    "model_3.score(X_test_scaled,y_test)"
   ]
  },
  {
   "cell_type": "code",
   "execution_count": 15,
   "id": "eaeed027",
   "metadata": {},
   "outputs": [
    {
     "data": {
      "text/plain": [
       "array([1, 1, 1], dtype=int64)"
      ]
     },
     "execution_count": 15,
     "metadata": {},
     "output_type": "execute_result"
    }
   ],
   "source": [
    "q = [[20,21000],\n",
    "     [45,90000],\n",
    "     [62,30000]]\n",
    "model_1.predict(q)"
   ]
  },
  {
   "cell_type": "code",
   "execution_count": 16,
   "id": "668b26af",
   "metadata": {},
   "outputs": [],
   "source": [
    "Q=scaler.transform(q)"
   ]
  },
  {
   "cell_type": "code",
   "execution_count": 17,
   "id": "b92fd13f",
   "metadata": {},
   "outputs": [
    {
     "data": {
      "text/plain": [
       "array([[0.04761905, 0.04444444],\n",
       "       [0.64285714, 0.55555556],\n",
       "       [1.04761905, 0.11111111]])"
      ]
     },
     "execution_count": 17,
     "metadata": {},
     "output_type": "execute_result"
    }
   ],
   "source": [
    "Q"
   ]
  },
  {
   "cell_type": "code",
   "execution_count": 18,
   "id": "1c427a66",
   "metadata": {},
   "outputs": [
    {
     "data": {
      "text/plain": [
       "array([0, 1, 1], dtype=int64)"
      ]
     },
     "execution_count": 18,
     "metadata": {},
     "output_type": "execute_result"
    }
   ],
   "source": [
    "model_1.predict(Q)"
   ]
  },
  {
   "cell_type": "code",
   "execution_count": 19,
   "id": "6f77881d",
   "metadata": {},
   "outputs": [
    {
     "data": {
      "text/plain": [
       "array([0, 0, 1], dtype=int64)"
      ]
     },
     "execution_count": 19,
     "metadata": {},
     "output_type": "execute_result"
    }
   ],
   "source": [
    "model_2.predict(Q)"
   ]
  },
  {
   "cell_type": "code",
   "execution_count": 20,
   "id": "cadeaa95",
   "metadata": {},
   "outputs": [
    {
     "data": {
      "text/plain": [
       "array([0, 1, 1], dtype=int64)"
      ]
     },
     "execution_count": 20,
     "metadata": {},
     "output_type": "execute_result"
    }
   ],
   "source": [
    "model_3.predict(Q)"
   ]
  },
  {
   "cell_type": "code",
   "execution_count": 21,
   "id": "b4bddf0a",
   "metadata": {},
   "outputs": [],
   "source": [
    "# Generate data for finding out decision boundry\n",
    "\n",
    "import numpy as np"
   ]
  },
  {
   "cell_type": "code",
   "execution_count": 22,
   "id": "a5a38baf",
   "metadata": {},
   "outputs": [
    {
     "data": {
      "text/plain": [
       "array([0.  , 0.01, 0.02, 0.03, 0.04, 0.05, 0.06, 0.07, 0.08, 0.09, 0.1 ,\n",
       "       0.11, 0.12, 0.13, 0.14, 0.15, 0.16, 0.17, 0.18, 0.19, 0.2 , 0.21,\n",
       "       0.22, 0.23, 0.24, 0.25, 0.26, 0.27, 0.28, 0.29, 0.3 , 0.31, 0.32,\n",
       "       0.33, 0.34, 0.35, 0.36, 0.37, 0.38, 0.39, 0.4 , 0.41, 0.42, 0.43,\n",
       "       0.44, 0.45, 0.46, 0.47, 0.48, 0.49, 0.5 , 0.51, 0.52, 0.53, 0.54,\n",
       "       0.55, 0.56, 0.57, 0.58, 0.59, 0.6 , 0.61, 0.62, 0.63, 0.64, 0.65,\n",
       "       0.66, 0.67, 0.68, 0.69, 0.7 , 0.71, 0.72, 0.73, 0.74, 0.75, 0.76,\n",
       "       0.77, 0.78, 0.79, 0.8 , 0.81, 0.82, 0.83, 0.84, 0.85, 0.86, 0.87,\n",
       "       0.88, 0.89, 0.9 , 0.91, 0.92, 0.93, 0.94, 0.95, 0.96, 0.97, 0.98,\n",
       "       0.99])"
      ]
     },
     "execution_count": 22,
     "metadata": {},
     "output_type": "execute_result"
    }
   ],
   "source": [
    "A = np.arange(0,1,0.01)\n",
    "A"
   ]
  },
  {
   "cell_type": "code",
   "execution_count": 23,
   "id": "328d77e4",
   "metadata": {},
   "outputs": [],
   "source": [
    "D = []\n",
    "for i in A:\n",
    "    for j in A:\n",
    "        D.append([i,j])\n",
    "D = np.array(D)"
   ]
  },
  {
   "cell_type": "code",
   "execution_count": 24,
   "id": "f0dda857",
   "metadata": {},
   "outputs": [
    {
     "data": {
      "text/plain": [
       "(10000, 2)"
      ]
     },
     "execution_count": 24,
     "metadata": {},
     "output_type": "execute_result"
    }
   ],
   "source": [
    "D.shape"
   ]
  },
  {
   "cell_type": "code",
   "execution_count": 25,
   "id": "28e051bf",
   "metadata": {},
   "outputs": [],
   "source": [
    "import matplotlib.pyplot as plt"
   ]
  },
  {
   "cell_type": "code",
   "execution_count": 26,
   "id": "15098a07",
   "metadata": {},
   "outputs": [
    {
     "data": {
      "text/plain": [
       "<matplotlib.collections.PathCollection at 0x1bbe80b7be0>"
      ]
     },
     "execution_count": 26,
     "metadata": {},
     "output_type": "execute_result"
    },
    {
     "data": {
      "image/png": "[encoded data removed]",
      "text/plain": [
       "<Figure size 432x288 with 1 Axes>"
      ]
     },
     "metadata": {
      "needs_background": "light"
     },
     "output_type": "display_data"
    }
   ],
   "source": [
    "y_pre = model_1.predict(D)   # Linear Kernel\n",
    "class_0 = D[y_pre==0]\n",
    "class_1 = D[y_pre==1]\n",
    "plt.scatter(class_0[:,0],class_0[:,1],c='red')\n",
    "plt.scatter(class_1[:,0],class_1[:,1],c='blue')"
   ]
  },
  {
   "cell_type": "code",
   "execution_count": 27,
   "id": "7cf9e06f",
   "metadata": {},
   "outputs": [
    {
     "data": {
      "text/plain": [
       "<matplotlib.collections.PathCollection at 0x1bbe81ae4c0>"
      ]
     },
     "execution_count": 27,
     "metadata": {},
     "output_type": "execute_result"
    },
    {
     "data": {
      "image/png": "[encoded data removed]",
      "text/plain": [
       "<Figure size 432x288 with 1 Axes>"
      ]
     },
     "metadata": {
      "needs_background": "light"
     },
     "output_type": "display_data"
    }
   ],
   "source": [
    "y_pre = model_2.predict(D)   # Poly Kernel\n",
    "class_0 = D[y_pre==0]\n",
    "class_1 = D[y_pre==1]\n",
    "plt.scatter(class_0[:,0],class_0[:,1],c='red')\n",
    "plt.scatter(class_1[:,0],class_1[:,1],c='blue')"
   ]
  },
  {
   "cell_type": "code",
   "execution_count": 28,
   "id": "8e4ead94",
   "metadata": {},
   "outputs": [
    {
     "data": {
      "text/plain": [
       "<matplotlib.collections.PathCollection at 0x1bbe820d820>"
      ]
     },
     "execution_count": 28,
     "metadata": {},
     "output_type": "execute_result"
    },
    {
     "data": {
      "image/png": "[encoded data removed]",
      "text/plain": [
       "<Figure size 432x288 with 1 Axes>"
      ]
     },
     "metadata": {
      "needs_background": "light"
     },
     "output_type": "display_data"
    }
   ],
   "source": [
    "y_pre = model_3.predict(D)   # RBF Kernel\n",
    "class_0 = D[y_pre==0]\n",
    "class_1 = D[y_pre==1]\n",
    "plt.scatter(class_0[:,0],class_0[:,1],c='red')\n",
    "plt.scatter(class_1[:,0],class_1[:,1],c='blue')"
   ]
  },
  {
   "cell_type": "code",
   "execution_count": 29,
   "id": "956d2f55",
   "metadata": {},
   "outputs": [
    {
     "data": {
      "text/plain": [
       "array([[   68.4, 15000. ]])"
      ]
     },
     "execution_count": 29,
     "metadata": {},
     "output_type": "execute_result"
    }
   ],
   "source": [
    "scaler.inverse_transform([[1.2,0]])"
   ]
  },
  {
   "cell_type": "code",
   "execution_count": null,
   "id": "6a952cf1",
   "metadata": {},
   "outputs": [],
   "source": []
  }
 ],
 "metadata": {
  "kernelspec": {
   "display_name": "Python 3",
   "language": "python",
   "name": "python3"
  },
  "language_info": {
   "codemirror_mode": {
    "name": "ipython",
    "version": 3
   },
   "file_extension": ".py",
   "mimetype": "text/x-python",
   "name": "python",
   "nbconvert_exporter": "python",
   "pygments_lexer": "ipython3",
   "version": "3.8.8"
  }
 },
 "nbformat": 4,
 "nbformat_minor": 5
}
